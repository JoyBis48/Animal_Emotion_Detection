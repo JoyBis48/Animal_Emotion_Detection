{
 "cells": [
  {
   "cell_type": "code",
   "execution_count": 1,
   "metadata": {},
   "outputs": [],
   "source": [
    "import warnings\n",
    "warnings.filterwarnings(\"ignore\")"
   ]
  },
  {
   "cell_type": "code",
   "execution_count": 2,
   "metadata": {
    "ExecuteTime": {
     "end_time": "2024-06-10T20:22:13.914402Z",
     "start_time": "2024-06-10T20:22:13.889402500Z"
    },
    "collapsed": false
   },
   "outputs": [],
   "source": [
    "# Importing the required libraries\n",
    "import os\n",
    "import tensorflow as tf\n",
    "from tensorflow.keras.preprocessing.image import ImageDataGenerator\n",
    "from tensorflow.keras.models import Sequential\n",
    "from tensorflow.keras.layers import GlobalAveragePooling2D, Dense, Dropout\n",
    "from tensorflow.keras.applications import MobileNetV2\n",
    "from tensorflow.keras.applications.mobilenet_v2 import preprocess_input"
   ]
  },
  {
   "cell_type": "code",
   "execution_count": 3,
   "metadata": {
    "ExecuteTime": {
     "end_time": "2024-06-10T20:22:13.961407800Z",
     "start_time": "2024-06-10T20:22:13.906404100Z"
    },
    "collapsed": false
   },
   "outputs": [],
   "source": [
    "# Load configuration\n",
    "base_dir = os.getcwd()\n",
    "dataset_dir = os.path.join(base_dir, 'dataset')\n",
    "model_path_dir = os.path.join(base_dir, 'saved_model')"
   ]
  },
  {
   "cell_type": "code",
   "execution_count": 4,
   "metadata": {
    "ExecuteTime": {
     "end_time": "2024-06-10T20:22:14.074579900Z",
     "start_time": "2024-06-10T20:22:13.924405500Z"
    },
    "collapsed": false
   },
   "outputs": [
    {
     "name": "stdout",
     "output_type": "stream",
     "text": [
      "Found 750 images belonging to 3 classes.\n",
      "Found 30 images belonging to 3 classes.\n",
      "Found 32 images belonging to 3 classes.\n"
     ]
    }
   ],
   "source": [
    "# Directories\n",
    "train_dir = os.path.join(dataset_dir, 'train')\n",
    "validation_dir = os.path.join(dataset_dir, 'valid')\n",
    "test_dir = os.path.join(dataset_dir, 'test')\n",
    "\n",
    "# Image dimensions\n",
    "image_height = 128\n",
    "image_width = 128\n",
    "batch_size = 64\n",
    "\n",
    "# Data generators with augmentation for training data\n",
    "train_image_generator = ImageDataGenerator(\n",
    "    preprocessing_function=preprocess_input,\n",
    "    rotation_range=40,\n",
    "    width_shift_range=0.2,\n",
    "    height_shift_range=0.2,\n",
    "    shear_range=0.2,\n",
    "    zoom_range=0.2,\n",
    "    horizontal_flip=True,\n",
    "    fill_mode='nearest'\n",
    ")\n",
    "validation_image_generator = ImageDataGenerator(preprocessing_function=preprocess_input)\n",
    "test_image_generator = ImageDataGenerator(preprocessing_function=preprocess_input)\n",
    "\n",
    "train_data_gen = train_image_generator.flow_from_directory(\n",
    "    batch_size=batch_size,\n",
    "    directory=train_dir,\n",
    "    shuffle=True,\n",
    "    target_size=(image_height, image_width),\n",
    "    class_mode='categorical'\n",
    ")\n",
    "val_data_gen = validation_image_generator.flow_from_directory(\n",
    "    batch_size=batch_size,\n",
    "    directory=validation_dir,\n",
    "    target_size=(image_height, image_width),\n",
    "    class_mode='categorical'\n",
    ")\n",
    "test_data_gen = test_image_generator.flow_from_directory(\n",
    "    batch_size=batch_size,\n",
    "    directory=test_dir,\n",
    "    target_size=(image_height, image_width),\n",
    "    class_mode='categorical'\n",
    ")"
   ]
  },
  {
   "cell_type": "code",
   "execution_count": 5,
   "metadata": {
    "ExecuteTime": {
     "end_time": "2024-06-10T20:22:16.225249500Z",
     "start_time": "2024-06-10T20:22:14.080578500Z"
    },
    "collapsed": false
   },
   "outputs": [],
   "source": [
    "# Loading the MobileNetV2 model pre-trained on ImageNet\n",
    "base_model = MobileNetV2(input_shape=(image_height, image_width, 3),\n",
    "                         include_top=False,\n",
    "                         weights='imagenet')\n",
    "\n",
    "# Using the entire MobileNetV2 model as the base model\n",
    "base_model.trainable = True\n",
    "\n",
    "# Building the model\n",
    "model = Sequential([\n",
    "    base_model,\n",
    "    GlobalAveragePooling2D(),\n",
    "    Dropout(0.5),\n",
    "    Dense(512, activation='relu'),\n",
    "    Dropout(0.5),\n",
    "    Dense(3, activation='softmax')\n",
    "])\n",
    "\n",
    "# Recompiling the model with a lower learning rate for fine tuning\n",
    "model.compile(optimizer=tf.keras.optimizers.Adam(learning_rate=1e-5),\n",
    "              loss='categorical_crossentropy',\n",
    "              metrics=['accuracy'])\n"
   ]
  },
  {
   "cell_type": "code",
   "execution_count": 161,
   "metadata": {
    "ExecuteTime": {
     "end_time": "2024-06-10T20:22:16.239706300Z",
     "start_time": "2024-06-10T20:22:16.228250Z"
    },
    "collapsed": false
   },
   "outputs": [],
   "source": [
    "# Model training\n",
    "history = model.fit(\n",
    "    train_data_gen,\n",
    "    validation_data=val_data_gen,\n",
    "    epochs=100\n",
    ")"
   ]
  },
  {
   "cell_type": "code",
   "execution_count": 162,
   "metadata": {
    "ExecuteTime": {
     "end_time": "2024-06-10T20:22:16.263368700Z",
     "start_time": "2024-06-10T20:22:16.241705700Z"
    },
    "collapsed": false
   },
   "outputs": [],
   "source": [
    "# Evaluating the model\n",
    "test_loss, test_acc = model.evaluate(test_data_gen)\n",
    "print('Test accuracy:', test_acc)"
   ]
  },
  {
   "cell_type": "code",
   "execution_count": 163,
   "metadata": {
    "ExecuteTime": {
     "end_time": "2024-06-10T20:22:16.277369600Z",
     "start_time": "2024-06-10T20:22:16.259369Z"
    },
    "collapsed": false
   },
   "outputs": [],
   "source": [
    "# Saving the model\n",
    "model.save(model_path_dir)"
   ]
  }
 ],
 "metadata": {
  "kaggle": {
   "accelerator": "none",
   "dataSources": [
    {
     "datasetId": 3546787,
     "sourceId": 6665954,
     "sourceType": "datasetVersion"
    },
    {
     "datasetId": 5185256,
     "sourceId": 8655619,
     "sourceType": "datasetVersion"
    }
   ],
   "dockerImageVersionId": 30732,
   "isGpuEnabled": false,
   "isInternetEnabled": false,
   "language": "python",
   "sourceType": "notebook"
  },
  "kernelspec": {
   "display_name": "Python 3",
   "language": "python",
   "name": "python3"
  },
  "language_info": {
   "codemirror_mode": {
    "name": "ipython",
    "version": 3
   },
   "file_extension": ".py",
   "mimetype": "text/x-python",
   "name": "python",
   "nbconvert_exporter": "python",
   "pygments_lexer": "ipython3",
   "version": "3.12.4"
  }
 },
 "nbformat": 4,
 "nbformat_minor": 4
}
